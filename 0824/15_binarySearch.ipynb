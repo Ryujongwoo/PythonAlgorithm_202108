{
 "cells": [
  {
   "cell_type": "code",
   "execution_count": 5,
   "id": "e5fdbad7",
   "metadata": {},
   "outputs": [
    {
     "data": {
      "image/png": "[encoded data removed]",
      "text/plain": [
       "<IPython.core.display.Image object>"
      ]
     },
     "execution_count": 5,
     "metadata": {
      "image/png": {
       "width": "500"
      }
     },
     "output_type": "execute_result"
    }
   ],
   "source": [
    "from IPython.display import Image\n",
    "Image('./binarySearch.png', width='500')"
   ]
  },
  {
   "cell_type": "code",
   "execution_count": 18,
   "id": "57c44a6e",
   "metadata": {},
   "outputs": [
    {
     "name": "stdout",
     "output_type": "stream",
     "text": [
      "검색할 데이터: 30\n",
      "3번 비교\n",
      "검색성공!!! 30는(은) 4번째 인덱스의 데이터입니다.\n"
     ]
    }
   ],
   "source": [
    "searchData = [2, 11, 19, 27, 30, 31, 45, 121]\n",
    "number = int(input('검색할 데이터: '))\n",
    "\n",
    "l = 0                   # 검색할 데이터의 첫번째 인덱스를 기억하는 변수\n",
    "h = len(searchData) - 1 # 검색할 데이터의 마지막 인덱스를 기억하는 변수\n",
    "m = 0                   # 데이터를 검색할 리스트의 중간 인덱스를 기억하는 변수 => 이 위치의 값과 찾으려는 값을 비교한다.\n",
    "count = 0               # 데이터를 검색하기 위해 비교하는 횟수를 기억하는 변수\n",
    "isFlag = False          # 데이터 검색에 성공(True)했나 실패(False)했나를 기억하는 변수\n",
    "\n",
    "# l이 h보다 커지면 찾으려는 데이터가 리스트에 없으므로 반복을 중지한다.\n",
    "while l <= h:\n",
    "    # 찾으려는 데이터와 비교할 데이터의 위치를 계산한다. => 중간 위치를 계산한다.\n",
    "    m = (l + h) // 2\n",
    "    count += 1 # 비교 횟수를 증가시킨다.\n",
    "    if number > searchData[m]:\n",
    "        l = m + 1\n",
    "    elif number < searchData[m]:\n",
    "        h = m - 1\n",
    "    else: # 크지도 않고 작지도 않다면 같다는 의미이다. => 찾았다 => 반복을 탈출한다.\n",
    "        isFlag = True\n",
    "        break\n",
    "# ===== while\n",
    "\n",
    "print('{}번 비교'.format(count))\n",
    "# 데이터를 찾았으면 isFlag에는 True가 들어있고 찾지 못했다면 초기값인 False가 들어있다.\n",
    "if isFlag:\n",
    "    print('검색성공!!! {}는(은) {}번째 인덱스의 데이터입니다.'.format(number, m))\n",
    "else:\n",
    "    print('검색실패!!!! {}는(은) 존재하지 않는 데이터입니다.'.format(number))"
   ]
  },
  {
   "cell_type": "code",
   "execution_count": null,
   "id": "5ff6009c",
   "metadata": {},
   "outputs": [],
   "source": []
  },
  {
   "cell_type": "code",
   "execution_count": null,
   "id": "74d2591c",
   "metadata": {},
   "outputs": [],
   "source": []
  },
  {
   "cell_type": "code",
   "execution_count": null,
   "id": "b6a4a672",
   "metadata": {},
   "outputs": [],
   "source": []
  },
  {
   "cell_type": "code",
   "execution_count": null,
   "id": "87f00b54",
   "metadata": {},
   "outputs": [],
   "source": []
  },
  {
   "cell_type": "code",
   "execution_count": null,
   "id": "9c6b5e90",
   "metadata": {},
   "outputs": [],
   "source": []
  },
  {
   "cell_type": "code",
   "execution_count": null,
   "id": "50157b21",
   "metadata": {},
   "outputs": [],
   "source": []
  },
  {
   "cell_type": "code",
   "execution_count": null,
   "id": "5ae1dcc4",
   "metadata": {},
   "outputs": [],
   "source": []
  },
  {
   "cell_type": "code",
   "execution_count": null,
   "id": "c5ed61e9",
   "metadata": {},
   "outputs": [],
   "source": []
  },
  {
   "cell_type": "code",
   "execution_count": null,
   "id": "eaf83705",
   "metadata": {},
   "outputs": [],
   "source": []
  },
  {
   "cell_type": "code",
   "execution_count": null,
   "id": "b0594cb8",
   "metadata": {},
   "outputs": [],
   "source": []
  }
 ],
 "metadata": {
  "kernelspec": {
   "display_name": "Python 3",
   "language": "python",
   "name": "python3"
  },
  "language_info": {
   "codemirror_mode": {
    "name": "ipython",
    "version": 3
   },
   "file_extension": ".py",
   "mimetype": "text/x-python",
   "name": "python",
   "nbconvert_exporter": "python",
   "pygments_lexer": "ipython3",
   "version": "3.6.8"
  }
 },
 "nbformat": 4,
 "nbformat_minor": 5
}
