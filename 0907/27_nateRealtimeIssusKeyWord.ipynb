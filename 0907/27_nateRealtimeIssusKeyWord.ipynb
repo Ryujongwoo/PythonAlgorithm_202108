{
 "cells": [
  {
   "cell_type": "code",
   "execution_count": 1,
   "id": "3fa5dccd",
   "metadata": {},
   "outputs": [],
   "source": [
    "import warnings\n",
    "warnings.filterwarnings(action='ignore')\n",
    "import requests\n",
    "from bs4 import BeautifulSoup"
   ]
  },
  {
   "cell_type": "code",
   "execution_count": 39,
   "id": "2dcaa16e",
   "metadata": {},
   "outputs": [
    {
     "name": "stdout",
     "output_type": "stream",
     "text": [
      " 1위: 한국 레바논[-]\n",
      " 2위: 국민지원금 신청[-]\n",
      " 3위: 생생정보[-]\n",
      " 4위: 권민아[new]\n",
      " 5위: 재개발 43채 LH직원[↓1]\n"
     ]
    }
   ],
   "source": [
    "targetSite = 'https://www.nate.com/'\n",
    "header = {\"User-agent\": \"Mozilla/5.0 (Windows NT 6.1; WOW64; Trident/7.0; rv:11.0) like Gecko\"}\n",
    "request = requests.get(targetSite, headers=header)\n",
    "# print(request)\n",
    "html = request.text\n",
    "soup = BeautifulSoup(html, 'html.parser')\n",
    "# print(soup)\n",
    "\n",
    "# 순위 크롤링\n",
    "ranks = soup.findAll('span', {'class': 'num_rank'})\n",
    "# print(ranks)\n",
    "# for rank in ranks[:5]:\n",
    "    # print(rank.text)\n",
    "\n",
    "# 실시간 이슈 키워드와 상승/하락 폭 크롤링\n",
    "issues = soup.findAll('a', {'class': 'ik'})\n",
    "# print(issues)\n",
    "# for issue in issues:\n",
    "    # print(issue.text.strip().split('\\n'))\n",
    "    # print('실시간 이슈 키워드: {}, 상승/하락 폭: {}'.format(issue.text.strip().split('\\n')[0], \n",
    "                                              # issue.text.strip().split('\\n')[1]))\n",
    "\n",
    "for i in range(5):\n",
    "    rank = ranks[i].text\n",
    "    issue = issues[i].text.strip().split('\\n')[0]\n",
    "    upDown = issues[i].text.strip().split('\\n')[1]\n",
    "    print('{0:>2s}위: {1}'.format(rank, issue), end='')\n",
    "    if upDown[:2] == '상승':\n",
    "        print('[{}{}]'.format('↑', upDown[2:]))\n",
    "    elif upDown[:2] == '하락':\n",
    "        print('[{}{}]'.format('↓', upDown[2:]))\n",
    "    elif upDown[:2] == '동일':\n",
    "        print('[-]')\n",
    "    else:\n",
    "        print('[new]')"
   ]
  },
  {
   "cell_type": "code",
   "execution_count": null,
   "id": "b05f556a",
   "metadata": {},
   "outputs": [],
   "source": [
    "\n"
   ]
  },
  {
   "cell_type": "code",
   "execution_count": null,
   "id": "7dc8e479",
   "metadata": {},
   "outputs": [],
   "source": []
  },
  {
   "cell_type": "code",
   "execution_count": null,
   "id": "135d2d55",
   "metadata": {},
   "outputs": [],
   "source": []
  },
  {
   "cell_type": "code",
   "execution_count": null,
   "id": "b23ea7c7",
   "metadata": {},
   "outputs": [],
   "source": []
  }
 ],
 "metadata": {
  "kernelspec": {
   "display_name": "Python 3",
   "language": "python",
   "name": "python3"
  },
  "language_info": {
   "codemirror_mode": {
    "name": "ipython",
    "version": 3
   },
   "file_extension": ".py",
   "mimetype": "text/x-python",
   "name": "python",
   "nbconvert_exporter": "python",
   "pygments_lexer": "ipython3",
   "version": "3.6.8"
  }
 },
 "nbformat": 4,
 "nbformat_minor": 5
}
