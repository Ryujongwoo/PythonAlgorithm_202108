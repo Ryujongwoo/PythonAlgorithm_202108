{
 "cells": [
  {
   "cell_type": "code",
   "execution_count": 1,
   "id": "a21204e4",
   "metadata": {},
   "outputs": [],
   "source": [
    "import random"
   ]
  },
  {
   "cell_type": "code",
   "execution_count": 35,
   "id": "688ac045",
   "metadata": {},
   "outputs": [
    {
     "name": "stdout",
     "output_type": "stream",
     "text": [
      "24 {24}\n",
      "45 {24, 45}\n",
      " 7 {24, 45, 7}\n",
      " 1 {24, 1, 45, 7}\n",
      "10 {1, 7, 10, 45, 24}\n",
      "26 {1, 7, 10, 45, 24, 26}\n",
      "1등 번호: {1, 7, 10, 45, 24, 26}\n",
      "10\n",
      "23\n",
      "보너스 번호: 23\n"
     ]
    }
   ],
   "source": [
    "# 로또 번호를 기억할 빈 set을 만든다.\n",
    "lotto = set()\n",
    "# print(type(lotto))\n",
    "\n",
    "# 1등 번호\n",
    "# 같은 번호가 몇 번 나올지 모르기 때문에 무한루프를 돌려준다.\n",
    "while True:\n",
    "    number = random.randrange(1, 46)\n",
    "    lotto.add(number)\n",
    "    print('{0:2d} {1}'.format(number, lotto))\n",
    "    # set에 중복되지 않는 숫자가 6개 저장되면 무한루프를 탈출시킨다.\n",
    "    if len(lotto) == 6:\n",
    "        break\n",
    "# ===== while\n",
    "print('1등 번호: {}'.format(lotto))\n",
    "\n",
    "# 보너스 번호\n",
    "while True:\n",
    "    bonus = random.randrange(1, 46)\n",
    "    print(bonus)\n",
    "    # 보너스 번호가 로또 번호에 없을 경우 무한루프를 탈출시킨다.\n",
    "    if bonus not in lotto: # 보너스 번호가 1등 번호에 없는가?\n",
    "        break\n",
    "# ===== while\n",
    "print('보너스 번호: {}'.format(bonus))"
   ]
  },
  {
   "cell_type": "code",
   "execution_count": null,
   "id": "a9b540ed",
   "metadata": {},
   "outputs": [],
   "source": []
  },
  {
   "cell_type": "code",
   "execution_count": null,
   "id": "dae28f9f",
   "metadata": {},
   "outputs": [],
   "source": []
  },
  {
   "cell_type": "code",
   "execution_count": null,
   "id": "c38c1365",
   "metadata": {},
   "outputs": [],
   "source": []
  },
  {
   "cell_type": "code",
   "execution_count": null,
   "id": "81e3f33a",
   "metadata": {},
   "outputs": [],
   "source": []
  }
 ],
 "metadata": {
  "kernelspec": {
   "display_name": "Python 3",
   "language": "python",
   "name": "python3"
  },
  "language_info": {
   "codemirror_mode": {
    "name": "ipython",
    "version": 3
   },
   "file_extension": ".py",
   "mimetype": "text/x-python",
   "name": "python",
   "nbconvert_exporter": "python",
   "pygments_lexer": "ipython3",
   "version": "3.6.8"
  }
 },
 "nbformat": 4,
 "nbformat_minor": 5
}
