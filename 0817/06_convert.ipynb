{
 "cells": [
  {
   "cell_type": "code",
   "execution_count": 3,
   "id": "407025b7",
   "metadata": {},
   "outputs": [
    {
     "data": {
      "image/png": "[encoded data removed]",
      "text/plain": [
       "<IPython.core.display.Image object>"
      ]
     },
     "execution_count": 3,
     "metadata": {
      "image/png": {
       "width": "900"
      }
     },
     "output_type": "execute_result"
    }
   ],
   "source": [
    "from IPython.display import Image\n",
    "Image('./convert.png', width='900')"
   ]
  },
  {
   "cell_type": "code",
   "execution_count": 6,
   "id": "36f7bb74",
   "metadata": {},
   "outputs": [
    {
     "name": "stdout",
     "output_type": "stream",
     "text": [
      "10진수를 입력하세요: 26\n",
      "1 1 0 1 0 \n",
      "[1, 1, 0, 1, 0]\n",
      "[1, 1, 0, 1, 0]\n"
     ]
    }
   ],
   "source": [
    "# 진법 변환 => 10진수를 2진수로\n",
    "dec = int(input('10진수를 입력하세요: '))\n",
    "convert = [] # 10진수가 2진수로 변환된 결과를 저장할 빈 리스트를 선언한다.\n",
    "\n",
    "# 입력받은 10진수의 크기에 따라서 반복횟수가 달라지므로 무한루프를 돌려서 처리한다.\n",
    "while True:\n",
    "    m = dec // 2 # 몫\n",
    "    r = dec % 2  # 나머지\n",
    "    convert.append(r)\n",
    "    if m == 0:   # 무한루프 탈출조건\n",
    "        break\n",
    "    # ===== if\n",
    "    # 다음 연산을 위해서 몫을 dec에 넣어준다.\n",
    "    dec = m\n",
    "# ===== while\n",
    "\n",
    "# convert 리스트에 저장된 데이터를 뒤부터 앞으로 출력한다.\n",
    "for i in range(len(convert) - 1, -1, -1):\n",
    "    print(convert[i], end=' ')\n",
    "print()\n",
    "print(convert[::-1])\n",
    "convert.reverse()\n",
    "print(convert)"
   ]
  },
  {
   "cell_type": "code",
   "execution_count": 7,
   "id": "05fbca47",
   "metadata": {},
   "outputs": [
    {
     "name": "stdout",
     "output_type": "stream",
     "text": [
      "10진수를 입력하세요: 26\n",
      "3 2 "
     ]
    }
   ],
   "source": [
    "# 진법 변환 => 10진수를 8진수로\n",
    "dec = int(input('10진수를 입력하세요: '))\n",
    "convert = [] # 10진수가 8진수로 변환된 결과를 저장할 빈 리스트를 선언한다.\n",
    "while True:\n",
    "    m = dec // 8\n",
    "    r = dec % 8\n",
    "    convert.append(r)\n",
    "    if m == 0:\n",
    "        break\n",
    "    dec = m\n",
    "\n",
    "for i in range(len(convert) - 1, -1, -1):\n",
    "    print(convert[i], end=' ')"
   ]
  },
  {
   "cell_type": "code",
   "execution_count": 9,
   "id": "820002c6",
   "metadata": {},
   "outputs": [
    {
     "name": "stdout",
     "output_type": "stream",
     "text": [
      "10진수를 입력하세요: 26\n",
      "1 A "
     ]
    }
   ],
   "source": [
    "# 진법 변환 => 10진수를 16진수로\n",
    "dec = int(input('10진수를 입력하세요: '))\n",
    "convert = [] # 10진수가 16진수로 변환된 결과를 저장할 빈 리스트를 선언한다.\n",
    "\n",
    "# 16진수를 기억하는 리스트를 만든다.\n",
    "hex_16 = ['0', '1', '2', '3', '4', '5', '6', '7', '8', '9', 'A', 'B', 'C', 'D', 'E', 'F']\n",
    "\n",
    "while True:\n",
    "    m = dec // 16\n",
    "    r = dec % 16\n",
    "    convert.append(hex_16[r])\n",
    "    if m == 0:\n",
    "        break\n",
    "    dec = m\n",
    "\n",
    "for i in range(len(convert) - 1, -1, -1):\n",
    "    print(convert[i], end=' ')"
   ]
  },
  {
   "cell_type": "code",
   "execution_count": 14,
   "id": "e946d9d3",
   "metadata": {},
   "outputs": [
    {
     "name": "stdout",
     "output_type": "stream",
     "text": [
      "10진수와 변환할 진법을 입력하세요: 36 36\n",
      "1 0 "
     ]
    }
   ],
   "source": [
    "# 진법 변환 => 10진수를 n진수로, 최대 36진법까지 표현할 수 있다.\n",
    "dec, n = map(int, input('10진수와 변환할 진법을 입력하세요: ').split())\n",
    "convert = []\n",
    "while True:\n",
    "    m = dec // n\n",
    "    r = dec % n\n",
    "    convert.append(r)\n",
    "    if m == 0:\n",
    "        break\n",
    "    dec = m\n",
    "\n",
    "for i in range(len(convert) - 1, -1, -1):\n",
    "    # chr() 함수는 인수로 지정된 코드값에 해당되는 문자를 리턴한다.\n",
    "    print(convert[i] if convert[i] < 10 else chr(convert[i] + 55), end=' ')"
   ]
  },
  {
   "cell_type": "code",
   "execution_count": 16,
   "id": "c8a40a3c",
   "metadata": {},
   "outputs": [
    {
     "data": {
      "image/png": "[encoded data removed]",
      "text/plain": [
       "<IPython.core.display.Image object>"
      ]
     },
     "execution_count": 16,
     "metadata": {
      "image/png": {
       "width": "200"
      }
     },
     "output_type": "execute_result"
    }
   ],
   "source": [
    "from IPython.display import Image\n",
    "Image('./hex.png', width='200')"
   ]
  },
  {
   "cell_type": "code",
   "execution_count": null,
   "id": "c362621f",
   "metadata": {},
   "outputs": [],
   "source": []
  },
  {
   "cell_type": "code",
   "execution_count": null,
   "id": "70ac510e",
   "metadata": {},
   "outputs": [],
   "source": []
  },
  {
   "cell_type": "code",
   "execution_count": null,
   "id": "cad11f8e",
   "metadata": {},
   "outputs": [],
   "source": []
  },
  {
   "cell_type": "code",
   "execution_count": null,
   "id": "9c92e0ce",
   "metadata": {},
   "outputs": [],
   "source": []
  },
  {
   "cell_type": "code",
   "execution_count": null,
   "id": "05249200",
   "metadata": {},
   "outputs": [],
   "source": []
  },
  {
   "cell_type": "code",
   "execution_count": null,
   "id": "5a330bc1",
   "metadata": {},
   "outputs": [],
   "source": []
  }
 ],
 "metadata": {
  "kernelspec": {
   "display_name": "Python 3",
   "language": "python",
   "name": "python3"
  },
  "language_info": {
   "codemirror_mode": {
    "name": "ipython",
    "version": 3
   },
   "file_extension": ".py",
   "mimetype": "text/x-python",
   "name": "python",
   "nbconvert_exporter": "python",
   "pygments_lexer": "ipython3",
   "version": "3.6.8"
  }
 },
 "nbformat": 4,
 "nbformat_minor": 5
}
